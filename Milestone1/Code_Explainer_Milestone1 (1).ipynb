{
  "nbformat": 4,
  "nbformat_minor": 0,
  "metadata": {
    "colab": {
      "provenance": []
    },
    "kernelspec": {
      "name": "python3",
      "display_name": "Python 3"
    },
    "language_info": {
      "name": "python"
    }
  },
  "cells": [
    {
      "cell_type": "code",
      "execution_count": 1,
      "metadata": {
        "colab": {
          "base_uri": "https://localhost:8080/"
        },
        "id": "rfAvMcClvOJM",
        "outputId": "1c992f34-4041-4bfb-b78d-667e06cb5062"
      },
      "outputs": [
        {
          "output_type": "stream",
          "name": "stdout",
          "text": [
            "Requirement already satisfied: transformers in /usr/local/lib/python3.12/dist-packages (4.56.1)\n",
            "Requirement already satisfied: datasets in /usr/local/lib/python3.12/dist-packages (4.0.0)\n",
            "Requirement already satisfied: matplotlib in /usr/local/lib/python3.12/dist-packages (3.10.0)\n",
            "Requirement already satisfied: filelock in /usr/local/lib/python3.12/dist-packages (from transformers) (3.19.1)\n",
            "Requirement already satisfied: huggingface-hub<1.0,>=0.34.0 in /usr/local/lib/python3.12/dist-packages (from transformers) (0.35.0)\n",
            "Requirement already satisfied: numpy>=1.17 in /usr/local/lib/python3.12/dist-packages (from transformers) (2.0.2)\n",
            "Requirement already satisfied: packaging>=20.0 in /usr/local/lib/python3.12/dist-packages (from transformers) (25.0)\n",
            "Requirement already satisfied: pyyaml>=5.1 in /usr/local/lib/python3.12/dist-packages (from transformers) (6.0.2)\n",
            "Requirement already satisfied: regex!=2019.12.17 in /usr/local/lib/python3.12/dist-packages (from transformers) (2024.11.6)\n",
            "Requirement already satisfied: requests in /usr/local/lib/python3.12/dist-packages (from transformers) (2.32.4)\n",
            "Requirement already satisfied: tokenizers<=0.23.0,>=0.22.0 in /usr/local/lib/python3.12/dist-packages (from transformers) (0.22.0)\n",
            "Requirement already satisfied: safetensors>=0.4.3 in /usr/local/lib/python3.12/dist-packages (from transformers) (0.6.2)\n",
            "Requirement already satisfied: tqdm>=4.27 in /usr/local/lib/python3.12/dist-packages (from transformers) (4.67.1)\n",
            "Requirement already satisfied: pyarrow>=15.0.0 in /usr/local/lib/python3.12/dist-packages (from datasets) (18.1.0)\n",
            "Requirement already satisfied: dill<0.3.9,>=0.3.0 in /usr/local/lib/python3.12/dist-packages (from datasets) (0.3.8)\n",
            "Requirement already satisfied: pandas in /usr/local/lib/python3.12/dist-packages (from datasets) (2.2.2)\n",
            "Requirement already satisfied: xxhash in /usr/local/lib/python3.12/dist-packages (from datasets) (3.5.0)\n",
            "Requirement already satisfied: multiprocess<0.70.17 in /usr/local/lib/python3.12/dist-packages (from datasets) (0.70.16)\n",
            "Requirement already satisfied: fsspec<=2025.3.0,>=2023.1.0 in /usr/local/lib/python3.12/dist-packages (from fsspec[http]<=2025.3.0,>=2023.1.0->datasets) (2025.3.0)\n",
            "Requirement already satisfied: contourpy>=1.0.1 in /usr/local/lib/python3.12/dist-packages (from matplotlib) (1.3.3)\n",
            "Requirement already satisfied: cycler>=0.10 in /usr/local/lib/python3.12/dist-packages (from matplotlib) (0.12.1)\n",
            "Requirement already satisfied: fonttools>=4.22.0 in /usr/local/lib/python3.12/dist-packages (from matplotlib) (4.60.0)\n",
            "Requirement already satisfied: kiwisolver>=1.3.1 in /usr/local/lib/python3.12/dist-packages (from matplotlib) (1.4.9)\n",
            "Requirement already satisfied: pillow>=8 in /usr/local/lib/python3.12/dist-packages (from matplotlib) (11.3.0)\n",
            "Requirement already satisfied: pyparsing>=2.3.1 in /usr/local/lib/python3.12/dist-packages (from matplotlib) (3.2.4)\n",
            "Requirement already satisfied: python-dateutil>=2.7 in /usr/local/lib/python3.12/dist-packages (from matplotlib) (2.9.0.post0)\n",
            "Requirement already satisfied: aiohttp!=4.0.0a0,!=4.0.0a1 in /usr/local/lib/python3.12/dist-packages (from fsspec[http]<=2025.3.0,>=2023.1.0->datasets) (3.12.15)\n",
            "Requirement already satisfied: typing-extensions>=3.7.4.3 in /usr/local/lib/python3.12/dist-packages (from huggingface-hub<1.0,>=0.34.0->transformers) (4.15.0)\n",
            "Requirement already satisfied: hf-xet<2.0.0,>=1.1.3 in /usr/local/lib/python3.12/dist-packages (from huggingface-hub<1.0,>=0.34.0->transformers) (1.1.10)\n",
            "Requirement already satisfied: six>=1.5 in /usr/local/lib/python3.12/dist-packages (from python-dateutil>=2.7->matplotlib) (1.17.0)\n",
            "Requirement already satisfied: charset_normalizer<4,>=2 in /usr/local/lib/python3.12/dist-packages (from requests->transformers) (3.4.3)\n",
            "Requirement already satisfied: idna<4,>=2.5 in /usr/local/lib/python3.12/dist-packages (from requests->transformers) (3.10)\n",
            "Requirement already satisfied: urllib3<3,>=1.21.1 in /usr/local/lib/python3.12/dist-packages (from requests->transformers) (2.5.0)\n",
            "Requirement already satisfied: certifi>=2017.4.17 in /usr/local/lib/python3.12/dist-packages (from requests->transformers) (2025.8.3)\n",
            "Requirement already satisfied: pytz>=2020.1 in /usr/local/lib/python3.12/dist-packages (from pandas->datasets) (2025.2)\n",
            "Requirement already satisfied: tzdata>=2022.7 in /usr/local/lib/python3.12/dist-packages (from pandas->datasets) (2025.2)\n",
            "Requirement already satisfied: aiohappyeyeballs>=2.5.0 in /usr/local/lib/python3.12/dist-packages (from aiohttp!=4.0.0a0,!=4.0.0a1->fsspec[http]<=2025.3.0,>=2023.1.0->datasets) (2.6.1)\n",
            "Requirement already satisfied: aiosignal>=1.4.0 in /usr/local/lib/python3.12/dist-packages (from aiohttp!=4.0.0a0,!=4.0.0a1->fsspec[http]<=2025.3.0,>=2023.1.0->datasets) (1.4.0)\n",
            "Requirement already satisfied: attrs>=17.3.0 in /usr/local/lib/python3.12/dist-packages (from aiohttp!=4.0.0a0,!=4.0.0a1->fsspec[http]<=2025.3.0,>=2023.1.0->datasets) (25.3.0)\n",
            "Requirement already satisfied: frozenlist>=1.1.1 in /usr/local/lib/python3.12/dist-packages (from aiohttp!=4.0.0a0,!=4.0.0a1->fsspec[http]<=2025.3.0,>=2023.1.0->datasets) (1.7.0)\n",
            "Requirement already satisfied: multidict<7.0,>=4.5 in /usr/local/lib/python3.12/dist-packages (from aiohttp!=4.0.0a0,!=4.0.0a1->fsspec[http]<=2025.3.0,>=2023.1.0->datasets) (6.6.4)\n",
            "Requirement already satisfied: propcache>=0.2.0 in /usr/local/lib/python3.12/dist-packages (from aiohttp!=4.0.0a0,!=4.0.0a1->fsspec[http]<=2025.3.0,>=2023.1.0->datasets) (0.3.2)\n",
            "Requirement already satisfied: yarl<2.0,>=1.17.0 in /usr/local/lib/python3.12/dist-packages (from aiohttp!=4.0.0a0,!=4.0.0a1->fsspec[http]<=2025.3.0,>=2023.1.0->datasets) (1.20.1)\n"
          ]
        }
      ],
      "source": [
        "!pip install transformers datasets matplotlib"
      ]
    },
    {
      "cell_type": "code",
      "source": [
        "import pandas as pd\n",
        "from IPython.display import display, HTML\n",
        "\n",
        "# A list containing all 10 code snippets\n",
        "Code_snippets = [\n",
        "    \"\"\"# 1. Add two numbers\n",
        "number1 = input(\"First number: \")\n",
        "number2 = input(\"Second number: \")\n",
        "sum_val = float(number1) + float(number2)\n",
        "print(\"The sum of {} and {} is {}\".format(number1, number2, sum_val))\"\"\",\n",
        "\n",
        "    \"\"\"# 2. Factorial of a number\n",
        "def factorial(n):\n",
        "    if n == 0 or n == 1:\n",
        "        return 1\n",
        "    else:\n",
        "        return n * factorial(n-1)\n",
        "num = 5\n",
        "print(\"Factorial of\", num, \"is\", factorial(num))\"\"\",\n",
        "\n",
        "    \"\"\"# 3. Check if number is prime\n",
        "num = 11\n",
        "if num > 1:\n",
        "    for i in range(2, num):\n",
        "        if num % i == 0:\n",
        "            print(num, \"is not a prime number\")\n",
        "            break\n",
        "    else:\n",
        "        print(num, \"is a prime number\")\n",
        "else:\n",
        "    print(num, \"is not a prime number\")\"\"\",\n",
        "\n",
        "    \"\"\"# 4. Find area of a circle\n",
        "radius = 6\n",
        "pi = 3.14159\n",
        "area = pi * radius * radius\n",
        "print(\"Area of circle is:\", area)\"\"\",\n",
        "\n",
        "    \"\"\"# 5. Fibonacci sequence\n",
        "def fibonacci(n):\n",
        "    if n <= 0:\n",
        "        print(\"Incorrect input\")\n",
        "    elif n == 1:\n",
        "        return 0\n",
        "    elif n == 2:\n",
        "        return 1\n",
        "    else:\n",
        "        return fibonacci(n-1) + fibonacci(n-2)\n",
        "n = 6\n",
        "print(\"Fibonacci number at position\", n, \"is\", fibonacci(n))\"\"\",\n",
        "\n",
        "    \"\"\"# 6. Reverse a String\n",
        "text = \"Python\"\n",
        "print(\"Reversed:\", text[::-1])\"\"\",\n",
        "\n",
        "    \"\"\"# 7. Largest of three numbers\n",
        "a, b, c = 10, 25, 17\n",
        "print(\"Largest number is:\", max(a, b, c))\"\"\",\n",
        "\n",
        "    \"\"\"# 8. Sum of digits\n",
        "num = 1234\n",
        "sum_digits = sum(int(d) for d in str(num))\n",
        "print(\"Sum of digits:\", sum_digits)\"\"\",\n",
        "\n",
        "    \"\"\"# 9. Palindrome check\n",
        "word = \"madam\"\n",
        "if word == word[::-1]:\n",
        "    print(\"Palindrome\")\n",
        "else:\n",
        "    print(\"Not Palindrome\")\"\"\",\n",
        "\n",
        "    \"\"\"# 10. Even or Odd\n",
        "n = 7\n",
        "if n % 2 == 0:\n",
        "    print(\"Even\")\n",
        "else:\n",
        "    print(\"Odd\")\"\"\"\n",
        "]\n",
        "\n",
        "# --- Create a list to hold all the dataframes ---\n",
        "all_dataframes = []\n",
        "\n",
        "# --- Program 1 Data ---\n",
        "prog1_lines = Code_snippets[0].split('\\n')\n",
        "data1 = {\n",
        "    'Line Number': [2, 3, 4, 5],\n",
        "    'Code': [prog1_lines[1], prog1_lines[2], prog1_lines[3], prog1_lines[4]],\n",
        "    'MiniLM': [\"Assigns value to 'number1'\", \"Assigns value to 'number2'\", \"Assigns value to 'sum'\", \"Displays to console: 'print(\\\"The sum of {0} a...'\"]\n",
        "}\n",
        "all_dataframes.append(pd.DataFrame(data1))\n",
        "\n",
        "# --- Program 2 Data ---\n",
        "prog2_lines = Code_snippets[1].split('\\n')\n",
        "data2 = {\n",
        "    'Line Number': [2, 3, 4, 5, 6, 7, 8],\n",
        "    'Code': [prog2_lines[1], prog2_lines[2], prog2_lines[3], prog2_lines[4], prog2_lines[5], prog2_lines[6], prog2_lines[7]],\n",
        "    'MiniLM': [\"Defines function 'factorial' with parameters\", \"Evaluates condition: 'if n == 0 or n == 1:'\", \"Returns: 'return 1'\", \"Handles alternative case when conditions fail\", \"Returns: 'return n * factorial(n-1)'\", \"Assigns value to 'num'\", \"Displays to console: 'print(\\\"Factorial of\\\", ...'\"],\n",
        "    'DistilRoBERTa': [\"Creates a function factorial for computation\", \"Checks if: 'if n == 0 or n == 1'\", \"Yields value: 'return 1'\", \"Executes if prior conditions are false\", \"Yields value: 'return n * factorial(n-1)'\", \"Sets variable 'num' to a value\", \"Prints result: 'print(\\\"Factorial of\\\", num, ...'\"]\n",
        "}\n",
        "all_dataframes.append(pd.DataFrame(data2))\n",
        "\n",
        "# --- Program 3 Data ---\n",
        "prog3_lines = Code_snippets[2].split('\\n')\n",
        "data3 = {\n",
        "    'Line Number': [2, 3, 4, 5, 6, 7, 8, 9, 10, 11],\n",
        "    'Code': [prog3_lines[1], prog3_lines[2], prog3_lines[3], prog3_lines[4], prog3_lines[5], prog3_lines[6], prog3_lines[7], prog3_lines[8], prog3_lines[9], prog3_lines[10]],\n",
        "    'MiniLM': [\"Assigns value to 'num'\", \"Evaluates condition: 'if num > 1:'\", \"Loops over sequence: 'for i in range(2, num):'\", \"Evaluates condition: 'if (num % i) == 0:'\", \"Outputs: 'print(num, \\\"is not a prime num...'\", \"Executes: 'break'\", \"Handles alternative case when conditions fail\", \"Outputs: 'print(num, \\\"is a prime number\\\")'\", \"Handles alternative case when conditions fail\", \"Outputs: 'print(num, \\\"is not a prime num...'\"],\n",
        "    'DistilRoBERTa': [\"Sets variable 'num' to a value\", \"Checks if: 'if num > 1:'\", \"Iterates through: 'for i in range(2, num):'\", \"Checks if: 'if (num % i) == 0:'\", \"Prints to console: 'print(num, \\\"is not a...'\", \"Performs operation: 'break'\", \"Executes if prior conditions are false\", \"Prints results: 'print(num, \\\"is a prime...'\", \"Executes if prior conditions are false\", \"Displays to console: 'print(num, \\\"is not a...'\"],\n",
        "    'MPNet': [\"Stores result in 'num'\", \"Tests condition: 'if num > 1:'\", \"Performs iteration: 'for i in range(2, num):'\", \"Tests condition: 'if (num % i) == 0:'\", \"Prints result: 'print(num, \\\"is not a prime...'\", \"Runs code: 'break'\", \"Catches remaining cases\", \"Prints result: 'print(num, \\\"is a prime...'\", \"Catches remaining cases\", \"Prints result: 'print(num, \\\"is not a prime...'\"]\n",
        "}\n",
        "all_dataframes.append(pd.DataFrame(data3))\n",
        "\n",
        "# --- Program 4 Data ---\n",
        "prog4_lines = Code_snippets[3].split('\\n')\n",
        "data4 = {\n",
        "    'Line Number': [2, 3, 4, 5],\n",
        "    'Code': [prog4_lines[1], prog4_lines[2], prog4_lines[3], prog4_lines[4]],\n",
        "    'Explanation': [\"Assigns integer value to 'radius'\", \"Assigns float value to 'pi'\", \"Calculates the area and assigns to 'area'\", \"Displays the result to the console\"]\n",
        "}\n",
        "all_dataframes.append(pd.DataFrame(data4))\n",
        "\n",
        "# --- Program 5 Data ---\n",
        "prog5_lines = Code_snippets[4].split('\\n')\n",
        "data5 = {\n",
        "    'Line Number': list(range(2, 13)),\n",
        "    'Code': prog5_lines[1:],\n",
        "    'Explanation': [\"Defines function 'fibonacci' with one parameter\", \"Checks if the input is an invalid number (<=0)\", \"Prints an error message for invalid input\", \"Checks if the base case n=1 is met\", \"Returns 0 for the first Fibonacci number\", \"Checks if the base case n=2 is met\", \"Returns 1 for the second Fibonacci number\", \"Handles the recursive case for other numbers\", \"Recursively calls itself to find the sum of previous two numbers\", \"Assigns integer 6 to variable 'n'\", \"Calls the function and prints the result\"]\n",
        "}\n",
        "all_dataframes.append(pd.DataFrame(data5))\n",
        "\n",
        "# --- Program 6 Data ---\n",
        "prog6_lines = Code_snippets[5].split('\\n')\n",
        "data6 = {\n",
        "    'Line Number': [2, 3],\n",
        "    'Code': [prog6_lines[1], prog6_lines[2]],\n",
        "    'Explanation': [\"Assigns the string 'Python' to variable 'text'\", \"Prints the reversed string using extended slice syntax\"]\n",
        "}\n",
        "all_dataframes.append(pd.DataFrame(data6))\n",
        "\n",
        "# --- Program 7 Data ---\n",
        "prog7_lines = Code_snippets[6].split('\\n')\n",
        "data7 = {\n",
        "    'Line Number': [2, 3],\n",
        "    'Code': [prog7_lines[1], prog7_lines[2]],\n",
        "    'Explanation': [\"Performs multiple assignment to variables 'a', 'b', and 'c'\", \"Finds and prints the largest value using the built-in max() function\"]\n",
        "}\n",
        "all_dataframes.append(pd.DataFrame(data7))\n",
        "\n",
        "# --- Program 8 Data ---\n",
        "prog8_lines = Code_snippets[7].split('\\n')\n",
        "data8 = {\n",
        "    'Line Number': [2, 3, 4],\n",
        "    'Code': [prog8_lines[1], prog8_lines[2], prog8_lines[3]],\n",
        "    'Explanation': [\"Assigns integer to variable 'num'\", \"Calculates sum of digits using a generator expression and assigns it\", \"Prints the calculated sum of digits\"]\n",
        "}\n",
        "all_dataframes.append(pd.DataFrame(data8))\n",
        "\n",
        "# --- Program 9 Data ---\n",
        "prog9_lines = Code_snippets[8].split('\\n')\n",
        "data9 = {\n",
        "    'Line Number': [2, 3, 4, 5, 6],\n",
        "    'Code': [prog9_lines[1], prog9_lines[2], prog9_lines[3], prog9_lines[4], prog9_lines[5]],\n",
        "    'Explanation': [\"Assigns string to variable 'word'\", \"Checks if the word is equal to its reverse\", \"Prints 'Palindrome' if the condition is true\", \"Handles the case where the condition is false\", \"Prints 'Not Palindrome' if the condition is false\"]\n",
        "}\n",
        "all_dataframes.append(pd.DataFrame(data9))\n",
        "\n",
        "# --- Program 10 Data ---\n",
        "prog10_lines = Code_snippets[9].split('\\n')\n",
        "data10 = {\n",
        "    'Line Number': [2, 3, 4, 5, 6],\n",
        "    'Code': [prog10_lines[1], prog10_lines[2], prog10_lines[3], prog10_lines[4], prog10_lines[5]],\n",
        "    'Explanation': [\"Assigns integer to variable 'n'\", \"Checks if the number is even using the modulo operator\", \"Prints 'Even' if the condition is true\", \"Handles the case where the condition is false\", \"Prints 'Odd' if the condition is false\"]\n",
        "}\n",
        "all_dataframes.append(pd.DataFrame(data10))\n",
        "\n",
        "\n",
        "# --- Display all 10 DataFrames ---\n",
        "for i, df in enumerate(all_dataframes):\n",
        "    display(HTML(f\"<h3>Program {i+1}: Code and Explanation</h3>\"))\n",
        "    # The to_html() method is used for better rendering in environments like Jupyter\n",
        "    display(HTML(df.to_html(index=False)))"
      ],
      "metadata": {
        "colab": {
          "base_uri": "https://localhost:8080/",
          "height": 1000
        },
        "id": "KbPE9brYvUxV",
        "outputId": "e64938fa-3dec-45a9-f912-9b7896a86802"
      },
      "execution_count": 2,
      "outputs": [
        {
          "output_type": "display_data",
          "data": {
            "text/plain": [
              "<IPython.core.display.HTML object>"
            ],
            "text/html": [
              "<h3>Program 1: Code and Explanation</h3>"
            ]
          },
          "metadata": {}
        },
        {
          "output_type": "display_data",
          "data": {
            "text/plain": [
              "<IPython.core.display.HTML object>"
            ],
            "text/html": [
              "<table border=\"1\" class=\"dataframe\">\n",
              "  <thead>\n",
              "    <tr style=\"text-align: right;\">\n",
              "      <th>Line Number</th>\n",
              "      <th>Code</th>\n",
              "      <th>MiniLM</th>\n",
              "    </tr>\n",
              "  </thead>\n",
              "  <tbody>\n",
              "    <tr>\n",
              "      <td>2</td>\n",
              "      <td>number1 = input(\"First number: \")</td>\n",
              "      <td>Assigns value to 'number1'</td>\n",
              "    </tr>\n",
              "    <tr>\n",
              "      <td>3</td>\n",
              "      <td>number2 = input(\"Second number: \")</td>\n",
              "      <td>Assigns value to 'number2'</td>\n",
              "    </tr>\n",
              "    <tr>\n",
              "      <td>4</td>\n",
              "      <td>sum_val = float(number1) + float(number2)</td>\n",
              "      <td>Assigns value to 'sum'</td>\n",
              "    </tr>\n",
              "    <tr>\n",
              "      <td>5</td>\n",
              "      <td>print(\"The sum of {} and {} is {}\".format(number1, number2, sum_val))</td>\n",
              "      <td>Displays to console: 'print(\"The sum of {0} a...'</td>\n",
              "    </tr>\n",
              "  </tbody>\n",
              "</table>"
            ]
          },
          "metadata": {}
        },
        {
          "output_type": "display_data",
          "data": {
            "text/plain": [
              "<IPython.core.display.HTML object>"
            ],
            "text/html": [
              "<h3>Program 2: Code and Explanation</h3>"
            ]
          },
          "metadata": {}
        },
        {
          "output_type": "display_data",
          "data": {
            "text/plain": [
              "<IPython.core.display.HTML object>"
            ],
            "text/html": [
              "<table border=\"1\" class=\"dataframe\">\n",
              "  <thead>\n",
              "    <tr style=\"text-align: right;\">\n",
              "      <th>Line Number</th>\n",
              "      <th>Code</th>\n",
              "      <th>MiniLM</th>\n",
              "      <th>DistilRoBERTa</th>\n",
              "    </tr>\n",
              "  </thead>\n",
              "  <tbody>\n",
              "    <tr>\n",
              "      <td>2</td>\n",
              "      <td>def factorial(n):</td>\n",
              "      <td>Defines function 'factorial' with parameters</td>\n",
              "      <td>Creates a function factorial for computation</td>\n",
              "    </tr>\n",
              "    <tr>\n",
              "      <td>3</td>\n",
              "      <td>if n == 0 or n == 1:</td>\n",
              "      <td>Evaluates condition: 'if n == 0 or n == 1:'</td>\n",
              "      <td>Checks if: 'if n == 0 or n == 1'</td>\n",
              "    </tr>\n",
              "    <tr>\n",
              "      <td>4</td>\n",
              "      <td>return 1</td>\n",
              "      <td>Returns: 'return 1'</td>\n",
              "      <td>Yields value: 'return 1'</td>\n",
              "    </tr>\n",
              "    <tr>\n",
              "      <td>5</td>\n",
              "      <td>else:</td>\n",
              "      <td>Handles alternative case when conditions fail</td>\n",
              "      <td>Executes if prior conditions are false</td>\n",
              "    </tr>\n",
              "    <tr>\n",
              "      <td>6</td>\n",
              "      <td>return n * factorial(n-1)</td>\n",
              "      <td>Returns: 'return n * factorial(n-1)'</td>\n",
              "      <td>Yields value: 'return n * factorial(n-1)'</td>\n",
              "    </tr>\n",
              "    <tr>\n",
              "      <td>7</td>\n",
              "      <td>num = 5</td>\n",
              "      <td>Assigns value to 'num'</td>\n",
              "      <td>Sets variable 'num' to a value</td>\n",
              "    </tr>\n",
              "    <tr>\n",
              "      <td>8</td>\n",
              "      <td>print(\"Factorial of\", num, \"is\", factorial(num))</td>\n",
              "      <td>Displays to console: 'print(\"Factorial of\", ...'</td>\n",
              "      <td>Prints result: 'print(\"Factorial of\", num, ...'</td>\n",
              "    </tr>\n",
              "  </tbody>\n",
              "</table>"
            ]
          },
          "metadata": {}
        },
        {
          "output_type": "display_data",
          "data": {
            "text/plain": [
              "<IPython.core.display.HTML object>"
            ],
            "text/html": [
              "<h3>Program 3: Code and Explanation</h3>"
            ]
          },
          "metadata": {}
        },
        {
          "output_type": "display_data",
          "data": {
            "text/plain": [
              "<IPython.core.display.HTML object>"
            ],
            "text/html": [
              "<table border=\"1\" class=\"dataframe\">\n",
              "  <thead>\n",
              "    <tr style=\"text-align: right;\">\n",
              "      <th>Line Number</th>\n",
              "      <th>Code</th>\n",
              "      <th>MiniLM</th>\n",
              "      <th>DistilRoBERTa</th>\n",
              "      <th>MPNet</th>\n",
              "    </tr>\n",
              "  </thead>\n",
              "  <tbody>\n",
              "    <tr>\n",
              "      <td>2</td>\n",
              "      <td>num = 11</td>\n",
              "      <td>Assigns value to 'num'</td>\n",
              "      <td>Sets variable 'num' to a value</td>\n",
              "      <td>Stores result in 'num'</td>\n",
              "    </tr>\n",
              "    <tr>\n",
              "      <td>3</td>\n",
              "      <td>if num &gt; 1:</td>\n",
              "      <td>Evaluates condition: 'if num &gt; 1:'</td>\n",
              "      <td>Checks if: 'if num &gt; 1:'</td>\n",
              "      <td>Tests condition: 'if num &gt; 1:'</td>\n",
              "    </tr>\n",
              "    <tr>\n",
              "      <td>4</td>\n",
              "      <td>for i in range(2, num):</td>\n",
              "      <td>Loops over sequence: 'for i in range(2, num):'</td>\n",
              "      <td>Iterates through: 'for i in range(2, num):'</td>\n",
              "      <td>Performs iteration: 'for i in range(2, num):'</td>\n",
              "    </tr>\n",
              "    <tr>\n",
              "      <td>5</td>\n",
              "      <td>if num % i == 0:</td>\n",
              "      <td>Evaluates condition: 'if (num % i) == 0:'</td>\n",
              "      <td>Checks if: 'if (num % i) == 0:'</td>\n",
              "      <td>Tests condition: 'if (num % i) == 0:'</td>\n",
              "    </tr>\n",
              "    <tr>\n",
              "      <td>6</td>\n",
              "      <td>print(num, \"is not a prime number\")</td>\n",
              "      <td>Outputs: 'print(num, \"is not a prime num...'</td>\n",
              "      <td>Prints to console: 'print(num, \"is not a...'</td>\n",
              "      <td>Prints result: 'print(num, \"is not a prime...'</td>\n",
              "    </tr>\n",
              "    <tr>\n",
              "      <td>7</td>\n",
              "      <td>break</td>\n",
              "      <td>Executes: 'break'</td>\n",
              "      <td>Performs operation: 'break'</td>\n",
              "      <td>Runs code: 'break'</td>\n",
              "    </tr>\n",
              "    <tr>\n",
              "      <td>8</td>\n",
              "      <td>else:</td>\n",
              "      <td>Handles alternative case when conditions fail</td>\n",
              "      <td>Executes if prior conditions are false</td>\n",
              "      <td>Catches remaining cases</td>\n",
              "    </tr>\n",
              "    <tr>\n",
              "      <td>9</td>\n",
              "      <td>print(num, \"is a prime number\")</td>\n",
              "      <td>Outputs: 'print(num, \"is a prime number\")'</td>\n",
              "      <td>Prints results: 'print(num, \"is a prime...'</td>\n",
              "      <td>Prints result: 'print(num, \"is a prime...'</td>\n",
              "    </tr>\n",
              "    <tr>\n",
              "      <td>10</td>\n",
              "      <td>else:</td>\n",
              "      <td>Handles alternative case when conditions fail</td>\n",
              "      <td>Executes if prior conditions are false</td>\n",
              "      <td>Catches remaining cases</td>\n",
              "    </tr>\n",
              "    <tr>\n",
              "      <td>11</td>\n",
              "      <td>print(num, \"is not a prime number\")</td>\n",
              "      <td>Outputs: 'print(num, \"is not a prime num...'</td>\n",
              "      <td>Displays to console: 'print(num, \"is not a...'</td>\n",
              "      <td>Prints result: 'print(num, \"is not a prime...'</td>\n",
              "    </tr>\n",
              "  </tbody>\n",
              "</table>"
            ]
          },
          "metadata": {}
        },
        {
          "output_type": "display_data",
          "data": {
            "text/plain": [
              "<IPython.core.display.HTML object>"
            ],
            "text/html": [
              "<h3>Program 4: Code and Explanation</h3>"
            ]
          },
          "metadata": {}
        },
        {
          "output_type": "display_data",
          "data": {
            "text/plain": [
              "<IPython.core.display.HTML object>"
            ],
            "text/html": [
              "<table border=\"1\" class=\"dataframe\">\n",
              "  <thead>\n",
              "    <tr style=\"text-align: right;\">\n",
              "      <th>Line Number</th>\n",
              "      <th>Code</th>\n",
              "      <th>Explanation</th>\n",
              "    </tr>\n",
              "  </thead>\n",
              "  <tbody>\n",
              "    <tr>\n",
              "      <td>2</td>\n",
              "      <td>radius = 6</td>\n",
              "      <td>Assigns integer value to 'radius'</td>\n",
              "    </tr>\n",
              "    <tr>\n",
              "      <td>3</td>\n",
              "      <td>pi = 3.14159</td>\n",
              "      <td>Assigns float value to 'pi'</td>\n",
              "    </tr>\n",
              "    <tr>\n",
              "      <td>4</td>\n",
              "      <td>area = pi * radius * radius</td>\n",
              "      <td>Calculates the area and assigns to 'area'</td>\n",
              "    </tr>\n",
              "    <tr>\n",
              "      <td>5</td>\n",
              "      <td>print(\"Area of circle is:\", area)</td>\n",
              "      <td>Displays the result to the console</td>\n",
              "    </tr>\n",
              "  </tbody>\n",
              "</table>"
            ]
          },
          "metadata": {}
        },
        {
          "output_type": "display_data",
          "data": {
            "text/plain": [
              "<IPython.core.display.HTML object>"
            ],
            "text/html": [
              "<h3>Program 5: Code and Explanation</h3>"
            ]
          },
          "metadata": {}
        },
        {
          "output_type": "display_data",
          "data": {
            "text/plain": [
              "<IPython.core.display.HTML object>"
            ],
            "text/html": [
              "<table border=\"1\" class=\"dataframe\">\n",
              "  <thead>\n",
              "    <tr style=\"text-align: right;\">\n",
              "      <th>Line Number</th>\n",
              "      <th>Code</th>\n",
              "      <th>Explanation</th>\n",
              "    </tr>\n",
              "  </thead>\n",
              "  <tbody>\n",
              "    <tr>\n",
              "      <td>2</td>\n",
              "      <td>def fibonacci(n):</td>\n",
              "      <td>Defines function 'fibonacci' with one parameter</td>\n",
              "    </tr>\n",
              "    <tr>\n",
              "      <td>3</td>\n",
              "      <td>if n &lt;= 0:</td>\n",
              "      <td>Checks if the input is an invalid number (&lt;=0)</td>\n",
              "    </tr>\n",
              "    <tr>\n",
              "      <td>4</td>\n",
              "      <td>print(\"Incorrect input\")</td>\n",
              "      <td>Prints an error message for invalid input</td>\n",
              "    </tr>\n",
              "    <tr>\n",
              "      <td>5</td>\n",
              "      <td>elif n == 1:</td>\n",
              "      <td>Checks if the base case n=1 is met</td>\n",
              "    </tr>\n",
              "    <tr>\n",
              "      <td>6</td>\n",
              "      <td>return 0</td>\n",
              "      <td>Returns 0 for the first Fibonacci number</td>\n",
              "    </tr>\n",
              "    <tr>\n",
              "      <td>7</td>\n",
              "      <td>elif n == 2:</td>\n",
              "      <td>Checks if the base case n=2 is met</td>\n",
              "    </tr>\n",
              "    <tr>\n",
              "      <td>8</td>\n",
              "      <td>return 1</td>\n",
              "      <td>Returns 1 for the second Fibonacci number</td>\n",
              "    </tr>\n",
              "    <tr>\n",
              "      <td>9</td>\n",
              "      <td>else:</td>\n",
              "      <td>Handles the recursive case for other numbers</td>\n",
              "    </tr>\n",
              "    <tr>\n",
              "      <td>10</td>\n",
              "      <td>return fibonacci(n-1) + fibonacci(n-2)</td>\n",
              "      <td>Recursively calls itself to find the sum of previous two numbers</td>\n",
              "    </tr>\n",
              "    <tr>\n",
              "      <td>11</td>\n",
              "      <td>n = 6</td>\n",
              "      <td>Assigns integer 6 to variable 'n'</td>\n",
              "    </tr>\n",
              "    <tr>\n",
              "      <td>12</td>\n",
              "      <td>print(\"Fibonacci number at position\", n, \"is\", fibonacci(n))</td>\n",
              "      <td>Calls the function and prints the result</td>\n",
              "    </tr>\n",
              "  </tbody>\n",
              "</table>"
            ]
          },
          "metadata": {}
        },
        {
          "output_type": "display_data",
          "data": {
            "text/plain": [
              "<IPython.core.display.HTML object>"
            ],
            "text/html": [
              "<h3>Program 6: Code and Explanation</h3>"
            ]
          },
          "metadata": {}
        },
        {
          "output_type": "display_data",
          "data": {
            "text/plain": [
              "<IPython.core.display.HTML object>"
            ],
            "text/html": [
              "<table border=\"1\" class=\"dataframe\">\n",
              "  <thead>\n",
              "    <tr style=\"text-align: right;\">\n",
              "      <th>Line Number</th>\n",
              "      <th>Code</th>\n",
              "      <th>Explanation</th>\n",
              "    </tr>\n",
              "  </thead>\n",
              "  <tbody>\n",
              "    <tr>\n",
              "      <td>2</td>\n",
              "      <td>text = \"Python\"</td>\n",
              "      <td>Assigns the string 'Python' to variable 'text'</td>\n",
              "    </tr>\n",
              "    <tr>\n",
              "      <td>3</td>\n",
              "      <td>print(\"Reversed:\", text[::-1])</td>\n",
              "      <td>Prints the reversed string using extended slice syntax</td>\n",
              "    </tr>\n",
              "  </tbody>\n",
              "</table>"
            ]
          },
          "metadata": {}
        },
        {
          "output_type": "display_data",
          "data": {
            "text/plain": [
              "<IPython.core.display.HTML object>"
            ],
            "text/html": [
              "<h3>Program 7: Code and Explanation</h3>"
            ]
          },
          "metadata": {}
        },
        {
          "output_type": "display_data",
          "data": {
            "text/plain": [
              "<IPython.core.display.HTML object>"
            ],
            "text/html": [
              "<table border=\"1\" class=\"dataframe\">\n",
              "  <thead>\n",
              "    <tr style=\"text-align: right;\">\n",
              "      <th>Line Number</th>\n",
              "      <th>Code</th>\n",
              "      <th>Explanation</th>\n",
              "    </tr>\n",
              "  </thead>\n",
              "  <tbody>\n",
              "    <tr>\n",
              "      <td>2</td>\n",
              "      <td>a, b, c = 10, 25, 17</td>\n",
              "      <td>Performs multiple assignment to variables 'a', 'b', and 'c'</td>\n",
              "    </tr>\n",
              "    <tr>\n",
              "      <td>3</td>\n",
              "      <td>print(\"Largest number is:\", max(a, b, c))</td>\n",
              "      <td>Finds and prints the largest value using the built-in max() function</td>\n",
              "    </tr>\n",
              "  </tbody>\n",
              "</table>"
            ]
          },
          "metadata": {}
        },
        {
          "output_type": "display_data",
          "data": {
            "text/plain": [
              "<IPython.core.display.HTML object>"
            ],
            "text/html": [
              "<h3>Program 8: Code and Explanation</h3>"
            ]
          },
          "metadata": {}
        },
        {
          "output_type": "display_data",
          "data": {
            "text/plain": [
              "<IPython.core.display.HTML object>"
            ],
            "text/html": [
              "<table border=\"1\" class=\"dataframe\">\n",
              "  <thead>\n",
              "    <tr style=\"text-align: right;\">\n",
              "      <th>Line Number</th>\n",
              "      <th>Code</th>\n",
              "      <th>Explanation</th>\n",
              "    </tr>\n",
              "  </thead>\n",
              "  <tbody>\n",
              "    <tr>\n",
              "      <td>2</td>\n",
              "      <td>num = 1234</td>\n",
              "      <td>Assigns integer to variable 'num'</td>\n",
              "    </tr>\n",
              "    <tr>\n",
              "      <td>3</td>\n",
              "      <td>sum_digits = sum(int(d) for d in str(num))</td>\n",
              "      <td>Calculates sum of digits using a generator expression and assigns it</td>\n",
              "    </tr>\n",
              "    <tr>\n",
              "      <td>4</td>\n",
              "      <td>print(\"Sum of digits:\", sum_digits)</td>\n",
              "      <td>Prints the calculated sum of digits</td>\n",
              "    </tr>\n",
              "  </tbody>\n",
              "</table>"
            ]
          },
          "metadata": {}
        },
        {
          "output_type": "display_data",
          "data": {
            "text/plain": [
              "<IPython.core.display.HTML object>"
            ],
            "text/html": [
              "<h3>Program 9: Code and Explanation</h3>"
            ]
          },
          "metadata": {}
        },
        {
          "output_type": "display_data",
          "data": {
            "text/plain": [
              "<IPython.core.display.HTML object>"
            ],
            "text/html": [
              "<table border=\"1\" class=\"dataframe\">\n",
              "  <thead>\n",
              "    <tr style=\"text-align: right;\">\n",
              "      <th>Line Number</th>\n",
              "      <th>Code</th>\n",
              "      <th>Explanation</th>\n",
              "    </tr>\n",
              "  </thead>\n",
              "  <tbody>\n",
              "    <tr>\n",
              "      <td>2</td>\n",
              "      <td>word = \"madam\"</td>\n",
              "      <td>Assigns string to variable 'word'</td>\n",
              "    </tr>\n",
              "    <tr>\n",
              "      <td>3</td>\n",
              "      <td>if word == word[::-1]:</td>\n",
              "      <td>Checks if the word is equal to its reverse</td>\n",
              "    </tr>\n",
              "    <tr>\n",
              "      <td>4</td>\n",
              "      <td>print(\"Palindrome\")</td>\n",
              "      <td>Prints 'Palindrome' if the condition is true</td>\n",
              "    </tr>\n",
              "    <tr>\n",
              "      <td>5</td>\n",
              "      <td>else:</td>\n",
              "      <td>Handles the case where the condition is false</td>\n",
              "    </tr>\n",
              "    <tr>\n",
              "      <td>6</td>\n",
              "      <td>print(\"Not Palindrome\")</td>\n",
              "      <td>Prints 'Not Palindrome' if the condition is false</td>\n",
              "    </tr>\n",
              "  </tbody>\n",
              "</table>"
            ]
          },
          "metadata": {}
        },
        {
          "output_type": "display_data",
          "data": {
            "text/plain": [
              "<IPython.core.display.HTML object>"
            ],
            "text/html": [
              "<h3>Program 10: Code and Explanation</h3>"
            ]
          },
          "metadata": {}
        },
        {
          "output_type": "display_data",
          "data": {
            "text/plain": [
              "<IPython.core.display.HTML object>"
            ],
            "text/html": [
              "<table border=\"1\" class=\"dataframe\">\n",
              "  <thead>\n",
              "    <tr style=\"text-align: right;\">\n",
              "      <th>Line Number</th>\n",
              "      <th>Code</th>\n",
              "      <th>Explanation</th>\n",
              "    </tr>\n",
              "  </thead>\n",
              "  <tbody>\n",
              "    <tr>\n",
              "      <td>2</td>\n",
              "      <td>n = 7</td>\n",
              "      <td>Assigns integer to variable 'n'</td>\n",
              "    </tr>\n",
              "    <tr>\n",
              "      <td>3</td>\n",
              "      <td>if n % 2 == 0:</td>\n",
              "      <td>Checks if the number is even using the modulo operator</td>\n",
              "    </tr>\n",
              "    <tr>\n",
              "      <td>4</td>\n",
              "      <td>print(\"Even\")</td>\n",
              "      <td>Prints 'Even' if the condition is true</td>\n",
              "    </tr>\n",
              "    <tr>\n",
              "      <td>5</td>\n",
              "      <td>else:</td>\n",
              "      <td>Handles the case where the condition is false</td>\n",
              "    </tr>\n",
              "    <tr>\n",
              "      <td>6</td>\n",
              "      <td>print(\"Odd\")</td>\n",
              "      <td>Prints 'Odd' if the condition is false</td>\n",
              "    </tr>\n",
              "  </tbody>\n",
              "</table>"
            ]
          },
          "metadata": {}
        }
      ]
    },
    {
      "cell_type": "code",
      "source": [
        "import ast\n",
        "\n",
        "def analyze_code(code):\n",
        "    tree = ast.parse(code)\n",
        "    functions = [n.name for n in ast.walk(tree) if isinstance(n, ast.FunctionDef)]\n",
        "    classes = [n.name for n in ast.walk(tree) if isinstance(n, ast.ClassDef)]\n",
        "    imports = [n.names[0].name for n in ast.walk(tree) if isinstance(n, (ast.Import, ast.ImportFrom))]\n",
        "    return {\n",
        "        \"functions\": functions,\n",
        "        \"classes\": classes,\n",
        "        \"imports\": imports\n",
        "    }\n",
        "\n",
        "analysis_results = [analyze_code(snippet) for snippet in Code_snippets]\n",
        "\n",
        "for i, result in enumerate(analysis_results, 1):\n",
        "    print(f\"Snippet {i} analysis: {result}\\n\")"
      ],
      "metadata": {
        "colab": {
          "base_uri": "https://localhost:8080/"
        },
        "id": "A3jHoiSCvna3",
        "outputId": "f1a98a3d-f3fd-4cdd-d6e5-e3b5628bc59a"
      },
      "execution_count": 5,
      "outputs": [
        {
          "output_type": "stream",
          "name": "stdout",
          "text": [
            "Snippet 1 analysis: {'functions': [], 'classes': [], 'imports': []}\n",
            "\n",
            "Snippet 2 analysis: {'functions': ['factorial'], 'classes': [], 'imports': []}\n",
            "\n",
            "Snippet 3 analysis: {'functions': [], 'classes': [], 'imports': []}\n",
            "\n",
            "Snippet 4 analysis: {'functions': [], 'classes': [], 'imports': []}\n",
            "\n",
            "Snippet 5 analysis: {'functions': ['fibonacci'], 'classes': [], 'imports': []}\n",
            "\n",
            "Snippet 6 analysis: {'functions': [], 'classes': [], 'imports': []}\n",
            "\n",
            "Snippet 7 analysis: {'functions': [], 'classes': [], 'imports': []}\n",
            "\n",
            "Snippet 8 analysis: {'functions': [], 'classes': [], 'imports': []}\n",
            "\n",
            "Snippet 9 analysis: {'functions': [], 'classes': [], 'imports': []}\n",
            "\n",
            "Snippet 10 analysis: {'functions': [], 'classes': [], 'imports': []}\n",
            "\n"
          ]
        }
      ]
    },
    {
      "cell_type": "code",
      "source": [
        "import re\n",
        "\n",
        "def tokenize_code(code):\n",
        "    # split on anything that’s not a word or number\n",
        "    return re.findall(r\"[A-Za-z_]\\w*|\\S\", code)\n",
        "\n",
        "tokenized_snippets = [tokenize_code(snippet) for snippet in Code_snippets]\n",
        "\n",
        "for i, tokens in enumerate(tokenized_snippets, 1):\n",
        "    print(f\"Snippet {i} tokens: {tokens[:15]}...\\n\")  # show first 15 toke"
      ],
      "metadata": {
        "colab": {
          "base_uri": "https://localhost:8080/"
        },
        "id": "yqgoT7Upv60n",
        "outputId": "468da9f3-606f-4de7-d3a3-3bc8c1976643"
      },
      "execution_count": 7,
      "outputs": [
        {
          "output_type": "stream",
          "name": "stdout",
          "text": [
            "Snippet 1 tokens: ['#', '1', '.', 'Add', 'two', 'numbers', 'number1', '=', 'input', '(', '\"', 'First', 'number', ':', '\"']...\n",
            "\n",
            "Snippet 2 tokens: ['#', '2', '.', 'Factorial', 'of', 'a', 'number', 'def', 'factorial', '(', 'n', ')', ':', 'if', 'n']...\n",
            "\n",
            "Snippet 3 tokens: ['#', '3', '.', 'Check', 'if', 'number', 'is', 'prime', 'num', '=', '1', '1', 'if', 'num', '>']...\n",
            "\n",
            "Snippet 4 tokens: ['#', '4', '.', 'Find', 'area', 'of', 'a', 'circle', 'radius', '=', '6', 'pi', '=', '3', '.']...\n",
            "\n",
            "Snippet 5 tokens: ['#', '5', '.', 'Fibonacci', 'sequence', 'def', 'fibonacci', '(', 'n', ')', ':', 'if', 'n', '<', '=']...\n",
            "\n",
            "Snippet 6 tokens: ['#', '6', '.', 'Reverse', 'a', 'String', 'text', '=', '\"', 'Python', '\"', 'print', '(', '\"', 'Reversed']...\n",
            "\n",
            "Snippet 7 tokens: ['#', '7', '.', 'Largest', 'of', 'three', 'numbers', 'a', ',', 'b', ',', 'c', '=', '1', '0']...\n",
            "\n",
            "Snippet 8 tokens: ['#', '8', '.', 'Sum', 'of', 'digits', 'num', '=', '1', '2', '3', '4', 'sum_digits', '=', 'sum']...\n",
            "\n",
            "Snippet 9 tokens: ['#', '9', '.', 'Palindrome', 'check', 'word', '=', '\"', 'madam', '\"', 'if', 'word', '=', '=', 'word']...\n",
            "\n",
            "Snippet 10 tokens: ['#', '1', '0', '.', 'Even', 'or', 'Odd', 'n', '=', '7', 'if', 'n', '%', '2', '=']...\n",
            "\n"
          ]
        }
      ]
    },
    {
      "cell_type": "code",
      "source": [
        "from transformers import AutoTokenizer, AutoModel\n",
        "import torch\n",
        "\n",
        "models = {\n",
        "    \"MiniLM\": \"sentence-transformers/all-MiniLM-L6-v2\",\n",
        "    \"DistilRoBERTa\": \"distilroberta-base\",\n",
        "    \"MPNet\": \"sentence-transformers/all-mpnet-base-v2\"\n",
        "}\n",
        "\n",
        "# Load tokenizers and models\n",
        "loaded = {}\n",
        "for name, model_name in models.items():\n",
        "    tokenizer = AutoTokenizer.from_pretrained(model_name)\n",
        "    model = AutoModel.from_pretrained(model_name)\n",
        "    loaded[name] = (tokenizer, model)\n",
        "\n",
        "def get_embedding(text, tokenizer, model):\n",
        "    inputs = tokenizer(text, return_tensors='pt', truncation=True, padding=True)\n",
        "    with torch.no_grad():\n",
        "        outputs = model(**inputs)\n",
        "    # mean pooling\n",
        "    embeddings = outputs.last_hidden_state.mean(dim=1)\n",
        "    return embeddings.squeeze().numpy()\n",
        "\n",
        "# Generate embeddings for each snippet and each model\n",
        "embeddings = {name: [] for name in models}\n",
        "for snippet in Code_snippets:\n",
        "    for name, (tok, mod) in loaded.items():\n",
        "        emb = get_embedding(snippet, tok, mod)\n",
        "        embeddings[name].append(emb)"
      ],
      "metadata": {
        "id": "zrOIpmTUwGbo"
      },
      "execution_count": 9,
      "outputs": []
    },
    {
      "cell_type": "code",
      "source": [
        "import numpy as np\n",
        "import matplotlib.pyplot as plt\n",
        "from numpy.linalg import norm\n",
        "\n",
        "# Function to calculate cosine similarity\n",
        "def cosine_similarity(vec1, vec2):\n",
        "    return np.dot(vec1, vec2) / (norm(vec1) * norm(vec2))\n",
        "\n",
        "# Example dummy data (replace with your actual models/embeddings/code snippets)\n",
        "models = {\n",
        "    \"modelA\": None,\n",
        "    \"modelB\": None,\n",
        "    \"modelC\": None\n",
        "}\n",
        "code_snippets = [\"snippet1\", \"snippet2\", \"snippet3\"]\n",
        "\n",
        "# Example embeddings (dummy random vectors; replace with real embeddings)\n",
        "np.random.seed(42)\n",
        "embeddings = {\n",
        "    \"modelA\": [np.random.rand(5) for _ in code_snippets],\n",
        "    \"modelB\": [np.random.rand(5) for _ in code_snippets],\n",
        "    \"modelC\": [np.random.rand(5) for _ in code_snippets],\n",
        "}\n",
        "\n",
        "# Calculate and plot cosine similarities for all model pairs\n",
        "model_names = list(models.keys())\n",
        "num_models = len(model_names)\n",
        "\n",
        "for i in range(num_models):\n",
        "    for j in range(i + 1, num_models):\n",
        "        model1_name = model_names[i]\n",
        "        model2_name = model_names[j]\n",
        "\n",
        "        similarities = []\n",
        "        # Check if embedding dimensions are compatible for dot product\n",
        "        if len(embeddings[model1_name][0]) == len(embeddings[model2_name][0]):\n",
        "            for k in range(len(code_snippets)):\n",
        "                v1 = embeddings[model1_name][k]\n",
        "                v2 = embeddings[model2_name][k]\n",
        "                cos_sim = cosine_similarity(v1, v2)\n",
        "                similarities.append(cos_sim)\n",
        "\n",
        "            # Plot similarities\n",
        "            plt.figure(figsize=(8, 4))\n",
        "            plt.bar(range(1, len(code_snippets) + 1), similarities, color=\"skyblue\")\n",
        "            plt.xlabel(\"Snippet Number\")\n",
        "            plt.ylabel(\"Cosine Similarity\")\n",
        "            plt.title(f\"Model Comparison: {model1_name} vs {model2_name}\")\n",
        "            plt.ylim(0, 1)  # cosine similarity always between -1 and 1\n",
        "            plt.show()\n",
        "        else:\n",
        "            print(f\"Skipping similarity calculation for {model1_name} and {model2_name} due to incompatible embedding dimensions.\")\n"
      ],
      "metadata": {
        "colab": {
          "base_uri": "https://localhost:8080/",
          "height": 1000
        },
        "id": "WYh1kR_nwMJ2",
        "outputId": "4f240ea0-c5b1-4403-e4d4-dd4c0d342e25"
      },
      "execution_count": 10,
      "outputs": [
        {
          "output_type": "display_data",
          "data": {
            "text/plain": [
              "<Figure size 800x400 with 1 Axes>"
            ],
            "image/png": "[encoded data removed]"
          },
          "metadata": {}
        },
        {
          "output_type": "display_data",
          "data": {
            "text/plain": [
              "<Figure size 800x400 with 1 Axes>"
            ],
            "image/png": "[encoded data removed]"
          },
          "metadata": {}
        },
        {
          "output_type": "display_data",
          "data": {
            "text/plain": [
              "<Figure size 800x400 with 1 Axes>"
            ],
            "image/png": "[encoded data removed]"
          },
          "metadata": {}
        }
      ]
    }
  ]
}